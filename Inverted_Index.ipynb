{
 "cells": [
  {
   "cell_type": "code",
   "execution_count": 75,
   "metadata": {
    "collapsed": false,
    "deletable": true,
    "editable": true
   },
   "outputs": [],
   "source": [
    "from nltk import word_tokenize\n",
    "import re\n",
    "from nltk.stem.porter import PorterStemmer\n",
    "from nltk.corpus import stopwords"
   ]
  },
  {
   "cell_type": "code",
   "execution_count": 76,
   "metadata": {
    "collapsed": true,
    "deletable": true,
    "editable": true
   },
   "outputs": [],
   "source": [
    "# Add documents in the collection\n",
    "document_0 = \"China has a strong economy that is growing at a rapid pace. However politically it differs greatly from the US Economy.\"\n",
    "document_1 = \"At last, China seems serious about confronting an endemic problem: domestic violence and corruption.\"\n",
    "document_2 = \"Japan's prime minister, Shinzo Abe, is working towards healing the economic turmoil in his own country for his view on the future of his people.\"\n",
    "document_3 = \"Vladimir Putin is working hard to fix the economy in Russia as the Ruble has tumbled.\"\n",
    "document_4 = \"What's the future of Abenomics? We asked Shinzo Abe for his views\"\n",
    "document_5 = \"Obama has eased sanctions on Cuba while accelerating those against the Russian Economy, even as the Ruble's value falls almost daily.\"\n",
    "document_6 = \"Vladimir Putin is riding a horse while hunting deer. Vladimir Putin always seems so serious about things - even riding horses. Is he crazy?\"\n",
    "\n",
    "all_documents = [document_0, document_1, document_2, document_3, document_4, document_5, document_6]"
   ]
  },
  {
   "cell_type": "code",
   "execution_count": 77,
   "metadata": {
    "collapsed": false,
    "deletable": true,
    "editable": true
   },
   "outputs": [],
   "source": [
    "# Tokenizer module\n",
    "for doc_id in range(len(all_documents)):\n",
    "    all_documents[doc_id] = word_tokenize(all_documents[doc_id])"
   ]
  },
  {
   "cell_type": "code",
   "execution_count": 78,
   "metadata": {
    "collapsed": false,
    "deletable": true,
    "editable": true
   },
   "outputs": [
    {
     "name": "stdout",
     "output_type": "stream",
     "text": [
      "[['China', 'has', 'a', 'strong', 'economy', 'that', 'is', 'growing', 'at', 'a', 'rapid', 'pace', '.', 'However', 'politically', 'it', 'differs', 'greatly', 'from', 'the', 'US', 'Economy', '.'], ['At', 'last', ',', 'China', 'seems', 'serious', 'about', 'confronting', 'an', 'endemic', 'problem', ':', 'domestic', 'violence', 'and', 'corruption', '.'], ['Japan', \"'s\", 'prime', 'minister', ',', 'Shinzo', 'Abe', ',', 'is', 'working', 'towards', 'healing', 'the', 'economic', 'turmoil', 'in', 'his', 'own', 'country', 'for', 'his', 'view', 'on', 'the', 'future', 'of', 'his', 'people', '.'], ['Vladimir', 'Putin', 'is', 'working', 'hard', 'to', 'fix', 'the', 'economy', 'in', 'Russia', 'as', 'the', 'Ruble', 'has', 'tumbled', '.'], ['What', \"'s\", 'the', 'future', 'of', 'Abenomics', '?', 'We', 'asked', 'Shinzo', 'Abe', 'for', 'his', 'views'], ['Obama', 'has', 'eased', 'sanctions', 'on', 'Cuba', 'while', 'accelerating', 'those', 'against', 'the', 'Russian', 'Economy', ',', 'even', 'as', 'the', 'Ruble', \"'s\", 'value', 'falls', 'almost', 'daily', '.'], ['Vladimir', 'Putin', 'is', 'riding', 'a', 'horse', 'while', 'hunting', 'deer', '.', 'Vladimir', 'Putin', 'always', 'seems', 'so', 'serious', 'about', 'things', '-', 'even', 'riding', 'horses', '.', 'Is', 'he', 'crazy', '?']]\n"
     ]
    }
   ],
   "source": [
    "print(all_documents)"
   ]
  },
  {
   "cell_type": "code",
   "execution_count": 79,
   "metadata": {
    "collapsed": false,
    "deletable": true,
    "editable": true
   },
   "outputs": [],
   "source": [
    "# Linguistic modules 1) Lowercase 2) Remove special characters \n",
    "stemmer = PorterStemmer()\n",
    "for doc_id in range(len(all_documents)):\n",
    "    for term_id in range(len(all_documents[doc_id])):\n",
    "        all_documents[doc_id][term_id] = stemmer.stem(re.sub(r'[^a-z\\d ]','',all_documents[doc_id][term_id].lower()))        "
   ]
  },
  {
   "cell_type": "code",
   "execution_count": 80,
   "metadata": {
    "collapsed": false,
    "deletable": true,
    "editable": true
   },
   "outputs": [
    {
     "name": "stdout",
     "output_type": "stream",
     "text": [
      "[['china', 'ha', 'a', 'strong', 'economi', 'that', 'is', 'grow', 'at', 'a', 'rapid', 'pace', '', 'howev', 'polit', 'it', 'differ', 'greatli', 'from', 'the', 'us', 'economi', ''], ['at', 'last', '', 'china', 'seem', 'seriou', 'about', 'confront', 'an', 'endem', 'problem', '', 'domest', 'violenc', 'and', 'corrupt', ''], ['japan', 's', 'prime', 'minist', '', 'shinzo', 'abe', '', 'is', 'work', 'toward', 'heal', 'the', 'econom', 'turmoil', 'in', 'hi', 'own', 'countri', 'for', 'hi', 'view', 'on', 'the', 'futur', 'of', 'hi', 'peopl', ''], ['vladimir', 'putin', 'is', 'work', 'hard', 'to', 'fix', 'the', 'economi', 'in', 'russia', 'as', 'the', 'rubl', 'ha', 'tumbl', ''], ['what', 's', 'the', 'futur', 'of', 'abenom', '', 'we', 'ask', 'shinzo', 'abe', 'for', 'hi', 'view'], ['obama', 'ha', 'eas', 'sanction', 'on', 'cuba', 'while', 'acceler', 'those', 'against', 'the', 'russian', 'economi', '', 'even', 'as', 'the', 'rubl', 's', 'valu', 'fall', 'almost', 'daili', ''], ['vladimir', 'putin', 'is', 'ride', 'a', 'hors', 'while', 'hunt', 'deer', '', 'vladimir', 'putin', 'alway', 'seem', 'so', 'seriou', 'about', 'thing', '', 'even', 'ride', 'hors', '', 'is', 'he', 'crazi', '']]\n"
     ]
    }
   ],
   "source": [
    "print(all_documents)"
   ]
  },
  {
   "cell_type": "code",
   "execution_count": 81,
   "metadata": {
    "collapsed": false,
    "deletable": true,
    "editable": true
   },
   "outputs": [
    {
     "name": "stdout",
     "output_type": "stream",
     "text": [
      "{'they', 'whom', 'this', \"couldn't\", 'during', 'will', 'below', 'ain', 'your', \"didn't\", \"mightn't\", 'yourself', 'those', 'at', 'me', 'yourselves', 'its', 'out', 'while', 'and', 'i', 'hers', 'don', 'doesn', 'you', 'am', 'for', \"doesn't\", 'was', 'each', 'won', \"you'd\", \"shan't\", 'didn', 'when', \"should've\", 'o', \"needn't\", \"wouldn't\", 'where', 'our', 'own', 'again', 'not', 'd', 've', 'once', 'all', 'were', 'being', 'too', 'than', 't', \"wasn't\", 'did', 'couldn', 'mustn', 'ours', 'her', 'isn', 'myself', 'against', 'we', 'there', 'until', 'into', 'aren', 'more', 'other', 'herself', \"won't\", 'only', 'any', \"hadn't\", 'what', 'himself', 'why', 'now', \"shouldn't\", 'as', 'having', 'hasn', 'should', 'them', 'in', 'mightn', \"you're\", 'because', 'by', 'how', 'down', 'do', 'his', 'if', 'very', 'itself', 'haven', 'under', 'has', 'of', 'same', \"that'll\", \"mustn't\", \"isn't\", 'needn', 'off', 'shouldn', 'with', 'most', 'll', 'both', 'before', 'after', 'it', 'no', 'further', 'such', 'm', 'had', 'who', 'over', 'does', \"weren't\", 'their', 'he', 'the', 'but', 'between', 'y', 'a', 'about', 'nor', 'my', \"she's\", 'some', 's', \"don't\", 'ma', 're', \"you've\", 'weren', 'are', 'up', 'yours', 'here', 'to', 'so', 'that', 'wasn', 'these', 'wouldn', 'an', 'hadn', 'few', 'theirs', 'themselves', \"haven't\", \"hasn't\", 'can', 'then', 'been', \"you'll\", 'have', 'him', 'shan', 'doing', 'which', \"it's\", 'ourselves', 'through', \"aren't\", 'on', 'just', 'she', 'be', 'is', 'from', 'above', 'or'}\n",
      "{0: {'greatli', 'china', 'us', 'polit', 'strong', 'howev', 'ha', 'pace', 'differ', 'grow', 'rapid', 'economi'}, 1: {'problem', 'violenc', 'corrupt', 'china', 'endem', 'confront', 'seriou', 'seem', 'last', 'domest'}, 2: {'toward', 'heal', 'econom', 'futur', 'countri', 'peopl', 'turmoil', 'prime', 'abe', 'shinzo', 'view', 'japan', 'minist', 'hi', 'work'}, 3: {'vladimir', 'rubl', 'putin', 'hard', 'russia', 'fix', 'tumbl', 'ha', 'economi', 'work'}, 4: {'futur', 'abe', 'shinzo', 'view', 'abenom', 'hi', 'ask'}, 5: {'cuba', 'sanction', 'eas', 'daili', 'even', 'almost', 'obama', 'acceler', 'russian', 'fall', 'ha', 'valu', 'economi', 'rubl'}, 6: {'ride', 'vladimir', 'deer', 'alway', 'seriou', 'hunt', 'putin', 'hors', 'seem', 'even', 'crazi', 'thing'}}\n"
     ]
    }
   ],
   "source": [
    "# Linguistic modules continued.. 3) Remove stop words 4) remove duplicates 5) Remove single letter terms\n",
    "stop_words = set(stopwords.words('english'))\n",
    "print(stop_words)\n",
    "all_unique_documents = {}\n",
    "for doc_id in range(len(all_documents)):\n",
    "    all_unique_documents[doc_id] = set()\n",
    "    for term_id in range(len(all_documents[doc_id])):\n",
    "        if len(all_documents[doc_id][term_id]) > 1 and all_documents[doc_id][term_id] not in stop_words:\n",
    "            all_unique_documents[doc_id].add(all_documents[doc_id][term_id])\n",
    "print(all_unique_documents)"
   ]
  },
  {
   "cell_type": "code",
   "execution_count": 82,
   "metadata": {
    "collapsed": false
   },
   "outputs": [],
   "source": [
    "# Create inverted index\n",
    "inverted_index = {}\n",
    "for doc_id in range(len(all_unique_documents)):\n",
    "    for term in all_unique_documents[doc_id]:\n",
    "       if term not in inverted_index:\n",
    "            inverted_index[term] = []\n",
    "       inverted_index[term].append(doc_id)"
   ]
  },
  {
   "cell_type": "code",
   "execution_count": 83,
   "metadata": {
    "collapsed": true
   },
   "outputs": [],
   "source": [
    "# Sorting the list items\n",
    "for item in inverted_index:\n",
    "        inverted_index[item].sort()"
   ]
  },
  {
   "cell_type": "code",
   "execution_count": 84,
   "metadata": {
    "collapsed": false
   },
   "outputs": [
    {
     "data": {
      "text/plain": [
       "{'abe': [2, 4],\n",
       " 'abenom': [4],\n",
       " 'acceler': [5],\n",
       " 'almost': [5],\n",
       " 'alway': [6],\n",
       " 'ask': [4],\n",
       " 'china': [0, 1],\n",
       " 'confront': [1],\n",
       " 'corrupt': [1],\n",
       " 'countri': [2],\n",
       " 'crazi': [6],\n",
       " 'cuba': [5],\n",
       " 'daili': [5],\n",
       " 'deer': [6],\n",
       " 'differ': [0],\n",
       " 'domest': [1],\n",
       " 'eas': [5],\n",
       " 'econom': [2],\n",
       " 'economi': [0, 3, 5],\n",
       " 'endem': [1],\n",
       " 'even': [5, 6],\n",
       " 'fall': [5],\n",
       " 'fix': [3],\n",
       " 'futur': [2, 4],\n",
       " 'greatli': [0],\n",
       " 'grow': [0],\n",
       " 'ha': [0, 3, 5],\n",
       " 'hard': [3],\n",
       " 'heal': [2],\n",
       " 'hi': [2, 4],\n",
       " 'hors': [6],\n",
       " 'howev': [0],\n",
       " 'hunt': [6],\n",
       " 'japan': [2],\n",
       " 'last': [1],\n",
       " 'minist': [2],\n",
       " 'obama': [5],\n",
       " 'pace': [0],\n",
       " 'peopl': [2],\n",
       " 'polit': [0],\n",
       " 'prime': [2],\n",
       " 'problem': [1],\n",
       " 'putin': [3, 6],\n",
       " 'rapid': [0],\n",
       " 'ride': [6],\n",
       " 'rubl': [3, 5],\n",
       " 'russia': [3],\n",
       " 'russian': [5],\n",
       " 'sanction': [5],\n",
       " 'seem': [1, 6],\n",
       " 'seriou': [1, 6],\n",
       " 'shinzo': [2, 4],\n",
       " 'strong': [0],\n",
       " 'thing': [6],\n",
       " 'toward': [2],\n",
       " 'tumbl': [3],\n",
       " 'turmoil': [2],\n",
       " 'us': [0],\n",
       " 'valu': [5],\n",
       " 'view': [2, 4],\n",
       " 'violenc': [1],\n",
       " 'vladimir': [3, 6],\n",
       " 'work': [2, 3]}"
      ]
     },
     "execution_count": 84,
     "metadata": {},
     "output_type": "execute_result"
    }
   ],
   "source": [
    "# Print inverted index\n",
    "inverted_index"
   ]
  }
 ],
 "metadata": {
  "kernelspec": {
   "display_name": "Python 3",
   "language": "python",
   "name": "python3"
  },
  "language_info": {
   "codemirror_mode": {
    "name": "ipython",
    "version": 3
   },
   "file_extension": ".py",
   "mimetype": "text/x-python",
   "name": "python",
   "nbconvert_exporter": "python",
   "pygments_lexer": "ipython3",
   "version": "3.6.0a1"
  }
 },
 "nbformat": 4,
 "nbformat_minor": 2
}
